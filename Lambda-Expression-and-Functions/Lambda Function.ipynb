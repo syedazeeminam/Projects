{
 "cells": [
  {
   "cell_type": "markdown",
   "id": "d21d3f40",
   "metadata": {},
   "source": [
    "# WELCOME TO THE NOTEBOOK\n",
    "---\n",
    "### Agenda:\n",
    "\n",
    "#### Task 1: what is Lambda expression?\n",
    "#### Task 2: Lambda expressions and lists\n",
    "    - what is map function?\n",
    "    - map function and lambda\n",
    "#### Task 3: Lambda expressions combined if else statement \n",
    "    - what is filter function ?\n",
    "#### Task 4: Lambda expressions and sorting \n",
    "    - sorting a list of tuples using Lambda \n",
    "    - sorting a list of dictionaries using Lambda\n",
    "#### Task 5: Data Manipulation and Exploration using Lambda Expressions"
   ]
  },
  {
   "cell_type": "markdown",
   "id": "25ba85d1",
   "metadata": {},
   "source": [
    "### Task 1: What is Lambda Expression ? "
   ]
  },
  {
   "cell_type": "markdown",
   "id": "f60f856f",
   "metadata": {},
   "source": [
    "- Let's define a python function:  get two numerical variables as an input, and calculate the multiplication of two values and return it.  "
   ]
  },
  {
   "cell_type": "code",
   "execution_count": 77,
   "id": "f7178e7a",
   "metadata": {},
   "outputs": [
    {
     "data": {
      "text/plain": [
       "20"
      ]
     },
     "execution_count": 77,
     "metadata": {},
     "output_type": "execute_result"
    }
   ],
   "source": [
    "def mul(a,b):\n",
    "    r = a * b \n",
    "    return r\n",
    "\n",
    "mul(4,5)"
   ]
  },
  {
   "cell_type": "markdown",
   "id": "eb5a69f7",
   "metadata": {},
   "source": [
    "- let's define a lambda expression with the same purpose\n",
    "\n",
    "<img src=\"images/lambdaa.png\" >"
   ]
  },
  {
   "cell_type": "code",
   "execution_count": 78,
   "id": "52b12e75",
   "metadata": {},
   "outputs": [],
   "source": [
    "mul_lambda = lambda a,b: a * b"
   ]
  },
  {
   "cell_type": "markdown",
   "id": "0785889d",
   "metadata": {},
   "source": [
    "- let's check the variable type "
   ]
  },
  {
   "cell_type": "code",
   "execution_count": 79,
   "id": "baeb55dc",
   "metadata": {},
   "outputs": [
    {
     "data": {
      "text/plain": [
       "function"
      ]
     },
     "execution_count": 79,
     "metadata": {},
     "output_type": "execute_result"
    }
   ],
   "source": [
    "type(mul_lambda)"
   ]
  },
  {
   "cell_type": "markdown",
   "id": "ffb418b0",
   "metadata": {},
   "source": [
    "- let's call the lambda "
   ]
  },
  {
   "cell_type": "code",
   "execution_count": 80,
   "id": "e397202a",
   "metadata": {},
   "outputs": [
    {
     "data": {
      "text/plain": [
       "20"
      ]
     },
     "execution_count": 80,
     "metadata": {},
     "output_type": "execute_result"
    }
   ],
   "source": [
    "mul_lambda(4,5)"
   ]
  },
  {
   "cell_type": "markdown",
   "id": "d459c335",
   "metadata": {},
   "source": [
    "- example : define a lambda function: gets a value and return square of the value"
   ]
  },
  {
   "cell_type": "code",
   "execution_count": 81,
   "id": "cee42d90",
   "metadata": {},
   "outputs": [],
   "source": [
    "square = lambda a: a ** 2"
   ]
  },
  {
   "cell_type": "code",
   "execution_count": 82,
   "id": "0d5764a9",
   "metadata": {},
   "outputs": [
    {
     "data": {
      "text/plain": [
       "9"
      ]
     },
     "execution_count": 82,
     "metadata": {},
     "output_type": "execute_result"
    }
   ],
   "source": [
    "square(3)"
   ]
  },
  {
   "cell_type": "markdown",
   "id": "72b0bc7e",
   "metadata": {},
   "source": [
    "- example : define lambda function: gets three values and return a list containing those values"
   ]
  },
  {
   "cell_type": "code",
   "execution_count": 83,
   "id": "7984095f",
   "metadata": {},
   "outputs": [
    {
     "data": {
      "text/plain": [
       "[1, 2, 3]"
      ]
     },
     "execution_count": 83,
     "metadata": {},
     "output_type": "execute_result"
    }
   ],
   "source": [
    "to_list = lambda a,b,c: [a,b,c]\n",
    "to_list(1,2,3)"
   ]
  },
  {
   "cell_type": "markdown",
   "id": "8afe1987",
   "metadata": {},
   "source": [
    "- example : define lambda function : gets a string and return the first character of the string"
   ]
  },
  {
   "cell_type": "code",
   "execution_count": 84,
   "id": "06bed656",
   "metadata": {},
   "outputs": [
    {
     "data": {
      "text/plain": [
       "'H'"
      ]
     },
     "execution_count": 84,
     "metadata": {},
     "output_type": "execute_result"
    }
   ],
   "source": [
    "first_char = lambda a: a[0]\n",
    "first_char('Hello')"
   ]
  },
  {
   "cell_type": "markdown",
   "id": "78a0a657",
   "metadata": {},
   "source": [
    "- Exercise : define a lambda function: gets a string and return the length of it "
   ]
  },
  {
   "cell_type": "code",
   "execution_count": 85,
   "id": "840949ac",
   "metadata": {},
   "outputs": [
    {
     "data": {
      "text/plain": [
       "13"
      ]
     },
     "execution_count": 85,
     "metadata": {},
     "output_type": "execute_result"
    }
   ],
   "source": [
    "length_char = lambda l : len(l)\n",
    "length_char('This is Azeem')"
   ]
  },
  {
   "cell_type": "markdown",
   "id": "f7b26167",
   "metadata": {},
   "source": [
    "### Task 2: Lambda Functions and Lists"
   ]
  },
  {
   "cell_type": "markdown",
   "id": "68d81ea8",
   "metadata": {},
   "source": [
    "- let's define a normal function: get's a list, return a list of all values to the power of 2 "
   ]
  },
  {
   "cell_type": "code",
   "execution_count": 86,
   "id": "d59585dd",
   "metadata": {},
   "outputs": [],
   "source": [
    "numbers = [1,2,3,10,9,3,4,10,7]"
   ]
  },
  {
   "cell_type": "code",
   "execution_count": 87,
   "id": "fa0b42db",
   "metadata": {},
   "outputs": [],
   "source": [
    "def list_square(list_):\n",
    "    new_list = []\n",
    "    for element in list_:\n",
    "        new_list.append(element ** 2)\n",
    "    return new_list"
   ]
  },
  {
   "cell_type": "code",
   "execution_count": 88,
   "id": "33d60b74",
   "metadata": {},
   "outputs": [
    {
     "data": {
      "text/plain": [
       "[1, 4, 9, 100, 81, 9, 16, 100, 49]"
      ]
     },
     "execution_count": 88,
     "metadata": {},
     "output_type": "execute_result"
    }
   ],
   "source": [
    "list_square(numbers)"
   ]
  },
  {
   "cell_type": "markdown",
   "id": "84590a06",
   "metadata": {},
   "source": [
    "- let's use map function "
   ]
  },
  {
   "cell_type": "code",
   "execution_count": 89,
   "id": "72736cfa",
   "metadata": {},
   "outputs": [
    {
     "data": {
      "text/plain": [
       "[1, 4, 9, 100, 81, 9, 16, 100, 49]"
      ]
     },
     "execution_count": 89,
     "metadata": {},
     "output_type": "execute_result"
    }
   ],
   "source": [
    "def func(element):\n",
    "    return element ** 2\n",
    "list(map(func, numbers))"
   ]
  },
  {
   "cell_type": "markdown",
   "id": "c7d1e5b5",
   "metadata": {},
   "source": [
    "- map function and lambda "
   ]
  },
  {
   "cell_type": "code",
   "execution_count": 90,
   "id": "b5a96f70",
   "metadata": {},
   "outputs": [
    {
     "data": {
      "text/plain": [
       "[1, 4, 9, 100, 81, 9, 16, 100, 49]"
      ]
     },
     "execution_count": 90,
     "metadata": {},
     "output_type": "execute_result"
    }
   ],
   "source": [
    "func_lambda = lambda element: element ** 2 \n",
    "list(map(func_lambda, numbers))"
   ]
  },
  {
   "cell_type": "markdown",
   "id": "17594d59",
   "metadata": {},
   "source": [
    "- let's make it even more compact"
   ]
  },
  {
   "cell_type": "code",
   "execution_count": 91,
   "id": "f7a079ff",
   "metadata": {},
   "outputs": [
    {
     "data": {
      "text/plain": [
       "[1, 4, 9, 100, 81, 9, 16, 100, 49]"
      ]
     },
     "execution_count": 91,
     "metadata": {},
     "output_type": "execute_result"
    }
   ],
   "source": [
    "list(map(lambda element: element ** 2, numbers))"
   ]
  },
  {
   "cell_type": "markdown",
   "id": "925df201",
   "metadata": {},
   "source": [
    "- example: I have a list of words, let's use map function to convert all the words into upper case."
   ]
  },
  {
   "cell_type": "code",
   "execution_count": 92,
   "id": "8c900e83",
   "metadata": {},
   "outputs": [],
   "source": [
    "words = [\"football\",\"python\",\"java\",\"coffee\",\"keyboard\"]"
   ]
  },
  {
   "cell_type": "code",
   "execution_count": 93,
   "id": "67818715",
   "metadata": {},
   "outputs": [
    {
     "data": {
      "text/plain": [
       "['FOOTBALL', 'PYTHON', 'JAVA', 'COFFEE', 'KEYBOARD']"
      ]
     },
     "execution_count": 93,
     "metadata": {},
     "output_type": "execute_result"
    }
   ],
   "source": [
    "list(map(lambda word: word.upper(), words))"
   ]
  },
  {
   "cell_type": "markdown",
   "id": "2bfc04ad",
   "metadata": {},
   "source": [
    "- Exercise : we have a list of sentences, use map function and lambda to convert all the sentences into lower case. "
   ]
  },
  {
   "cell_type": "code",
   "execution_count": 94,
   "id": "2862a2b6",
   "metadata": {},
   "outputs": [],
   "source": [
    "sentences = [\n",
    "    \"Today is Thursday and weather Is Sunny.\",\n",
    "    \"Tomorrow at 14 PM, Meeting with Daniel.\",\n",
    "    \"Python is a powerfull Tool For DataScience.\",\n",
    "    \"Tommy Called Today, He told me He does not feel Good... I think It's COVID!\"\n",
    "]"
   ]
  },
  {
   "cell_type": "code",
   "execution_count": 95,
   "id": "efa401f1",
   "metadata": {},
   "outputs": [
    {
     "data": {
      "text/plain": [
       "['today is thursday and weather is sunny.',\n",
       " 'tomorrow at 14 pm, meeting with daniel.',\n",
       " 'python is a powerfull tool for datascience.',\n",
       " \"tommy called today, he told me he does not feel good... i think it's covid!\"]"
      ]
     },
     "execution_count": 95,
     "metadata": {},
     "output_type": "execute_result"
    }
   ],
   "source": [
    "list(map(lambda s: s.lower(), sentences))"
   ]
  },
  {
   "cell_type": "markdown",
   "id": "6512ee9c",
   "metadata": {},
   "source": [
    "### Task 3 : Lambda Expression combined with if statement"
   ]
  },
  {
   "cell_type": "markdown",
   "id": "b5c8f8ad",
   "metadata": {},
   "source": [
    "- let's define a normal function: gets a value and return true of the value is even, return false if the value is odd"
   ]
  },
  {
   "cell_type": "code",
   "execution_count": 96,
   "id": "9a9d7022",
   "metadata": {},
   "outputs": [
    {
     "data": {
      "text/plain": [
       "False"
      ]
     },
     "execution_count": 96,
     "metadata": {},
     "output_type": "execute_result"
    }
   ],
   "source": [
    "def func_even(a):\n",
    "    if a % 2 == 0: \n",
    "        return True \n",
    "    else:\n",
    "        return False\n",
    "func_even(3)"
   ]
  },
  {
   "cell_type": "markdown",
   "id": "d0f42ff9",
   "metadata": {},
   "source": [
    "- let's define a lambda with same purpose"
   ]
  },
  {
   "cell_type": "code",
   "execution_count": 97,
   "id": "0971c560",
   "metadata": {},
   "outputs": [
    {
     "data": {
      "text/plain": [
       "True"
      ]
     },
     "execution_count": 97,
     "metadata": {},
     "output_type": "execute_result"
    }
   ],
   "source": [
    "func_even_lambda = lambda a: True if a%2==0 else False\n",
    "func_even_lambda(2)"
   ]
  },
  {
   "cell_type": "markdown",
   "id": "ea4cde01",
   "metadata": {},
   "source": [
    "- consider a list of numbers, define a normal function : gets a list of numbers and create a new list that contains only the even numbers from our input list"
   ]
  },
  {
   "cell_type": "code",
   "execution_count": 98,
   "id": "7c53301c",
   "metadata": {},
   "outputs": [],
   "source": [
    "numbers = [1,2,3,10,9,3,4,10,7]"
   ]
  },
  {
   "cell_type": "code",
   "execution_count": 99,
   "id": "27df2864",
   "metadata": {},
   "outputs": [
    {
     "data": {
      "text/plain": [
       "[2, 10, 4, 10]"
      ]
     },
     "execution_count": 99,
     "metadata": {},
     "output_type": "execute_result"
    }
   ],
   "source": [
    "def filter_even(list_):\n",
    "    new_list = []\n",
    "    for element in list_:\n",
    "        if element%2 == 0:\n",
    "            new_list.append(element)\n",
    "    return new_list\n",
    "\n",
    "filter_even(numbers)"
   ]
  },
  {
   "cell_type": "markdown",
   "id": "640594ea",
   "metadata": {},
   "source": [
    "- let's use filter function "
   ]
  },
  {
   "cell_type": "code",
   "execution_count": 100,
   "id": "28c594cb",
   "metadata": {},
   "outputs": [
    {
     "data": {
      "text/plain": [
       "[2, 10, 4, 10]"
      ]
     },
     "execution_count": 100,
     "metadata": {},
     "output_type": "execute_result"
    }
   ],
   "source": [
    "def func_even2(element):\n",
    "    if element % 2 == 0:\n",
    "        return element\n",
    "    else: \n",
    "        return False\n",
    "list(filter(func_even2,numbers))"
   ]
  },
  {
   "cell_type": "code",
   "execution_count": 101,
   "id": "c80e3fec",
   "metadata": {},
   "outputs": [
    {
     "data": {
      "text/plain": [
       "[2, 10, 4, 10]"
      ]
     },
     "execution_count": 101,
     "metadata": {},
     "output_type": "execute_result"
    }
   ],
   "source": [
    "list(filter(lambda element: True if element % 2 == 0 else False, numbers))"
   ]
  },
  {
   "cell_type": "markdown",
   "id": "79a9d1aa",
   "metadata": {},
   "source": [
    "- example: I have a list of names, let's use filter function and lambda to filter out the names starting with 'A'"
   ]
  },
  {
   "cell_type": "code",
   "execution_count": 102,
   "id": "01b8dfa5",
   "metadata": {},
   "outputs": [],
   "source": [
    "names = [\"John\",\"Alex\",\"Maiki\",\"Alice\",\"Layla\",\"Hanna\",\"Alexander\",\"Anil\",\"Angela\",\"Lola\",\"Thelma\",\"Clara\"]"
   ]
  },
  {
   "cell_type": "code",
   "execution_count": 103,
   "id": "fe03ae19",
   "metadata": {},
   "outputs": [
    {
     "data": {
      "text/plain": [
       "['Alex', 'Alice', 'Alexander', 'Anil', 'Angela']"
      ]
     },
     "execution_count": 103,
     "metadata": {},
     "output_type": "execute_result"
    }
   ],
   "source": [
    "list(filter(lambda s: True if s[0]=='A' else False, names))"
   ]
  },
  {
   "cell_type": "markdown",
   "id": "a1357598",
   "metadata": {},
   "source": [
    "- example: use filter and lambda function to filter out the names that starts with an 'A' and with the length of 4 "
   ]
  },
  {
   "cell_type": "code",
   "execution_count": 104,
   "id": "d2c55dee",
   "metadata": {},
   "outputs": [
    {
     "data": {
      "text/plain": [
       "['Alex', 'Anil']"
      ]
     },
     "execution_count": 104,
     "metadata": {},
     "output_type": "execute_result"
    }
   ],
   "source": [
    "list(filter(lambda s: True if (s[0] == 'A' and len(s) == 4) else False, names))"
   ]
  },
  {
   "cell_type": "markdown",
   "id": "18b822f6",
   "metadata": {},
   "source": [
    "- exercise: we have a list of numbers, use map function and lambda to multiply the odd values by 10 and the even values by 100 in our numbers list"
   ]
  },
  {
   "cell_type": "code",
   "execution_count": 105,
   "id": "dcd5d766",
   "metadata": {},
   "outputs": [],
   "source": [
    "numbers = [1,2,3,10,9,3,4,10,7]"
   ]
  },
  {
   "cell_type": "code",
   "execution_count": 106,
   "id": "ca27f042",
   "metadata": {},
   "outputs": [
    {
     "data": {
      "text/plain": [
       "[10, 200, 30, 1000, 90, 30, 400, 1000, 70]"
      ]
     },
     "execution_count": 106,
     "metadata": {},
     "output_type": "execute_result"
    }
   ],
   "source": [
    "list(map(lambda a: a * 100 if a%2 == 0 else a * 10, numbers))"
   ]
  },
  {
   "cell_type": "markdown",
   "id": "3bbc97ba",
   "metadata": {},
   "source": [
    "### Task 4: Lambda expressions and sorting "
   ]
  },
  {
   "cell_type": "markdown",
   "id": "a2dc99d2",
   "metadata": {},
   "source": [
    "#### Sorting a list of tuples \n",
    "- Let's say we have a list of products with their respective prices, stored as a tupple in a list."
   ]
  },
  {
   "cell_type": "code",
   "execution_count": 107,
   "id": "cb79c3a8",
   "metadata": {},
   "outputs": [],
   "source": [
    "products = [\n",
    "    (\"Cheese\",1.50),\n",
    "    (\"Banana Bread\",2.10),\n",
    "    (\"Chicken Meat\",3.50),\n",
    "    (\"Apple Juice\",0.45),\n",
    "    (\"Orange Juice\",1.25),\n",
    "    (\"Milk\",0.75),\n",
    "    (\"Mango\",1.25)\n",
    "]"
   ]
  },
  {
   "cell_type": "markdown",
   "id": "0f0f5db6",
   "metadata": {},
   "source": [
    "- Let's sort the list based on the prices "
   ]
  },
  {
   "cell_type": "code",
   "execution_count": 108,
   "id": "da0a15f1",
   "metadata": {},
   "outputs": [],
   "source": [
    "products.sort()"
   ]
  },
  {
   "cell_type": "code",
   "execution_count": 109,
   "id": "182764bc",
   "metadata": {},
   "outputs": [
    {
     "data": {
      "text/plain": [
       "[('Apple Juice', 0.45),\n",
       " ('Milk', 0.75),\n",
       " ('Mango', 1.25),\n",
       " ('Orange Juice', 1.25),\n",
       " ('Cheese', 1.5),\n",
       " ('Banana Bread', 2.1),\n",
       " ('Chicken Meat', 3.5)]"
      ]
     },
     "execution_count": 109,
     "metadata": {},
     "output_type": "execute_result"
    }
   ],
   "source": [
    "products.sort(key = lambda element: element[1])\n",
    "products"
   ]
  },
  {
   "cell_type": "markdown",
   "id": "b5ff11a2",
   "metadata": {},
   "source": [
    "#### Sorting a list of dictionaries \n",
    "- Let's say we have a list of 7 person with their information (name, age, Income) stored in a dictionary."
   ]
  },
  {
   "cell_type": "code",
   "execution_count": 110,
   "id": "f1aca350",
   "metadata": {},
   "outputs": [],
   "source": [
    "persons = [\n",
    "    {\"Name\" : \"Jake\" , \"Age\" : 23 , \"Income\"  : 450 },\n",
    "    {\"Name\" : \"Maria\" , \"Age\"  : 32 , \"Income\"  : 2550 },\n",
    "    {\"Name\" : \"Will\" , \"Age\"  : 43 , \"Income\"  : 4500 },\n",
    "    {\"Name\" : \"Layla\" , \"Age\"  : 12 , \"Income\"  : 0 },\n",
    "    {\"Name\" : \"Mina\" , \"Age\"  : 35 , \"Income\"  : 2100 },\n",
    "    {\"Name\" : \"Lola\" , \"Age\"  : 28 , \"Income\"  : 450 },\n",
    "    {\"Name\" : \"Thelma\" , \"Age\"  : 23 , \"Income\"  : 450 },\n",
    "]"
   ]
  },
  {
   "cell_type": "markdown",
   "id": "7c58e111",
   "metadata": {},
   "source": [
    "- sort the list based on each person's age "
   ]
  },
  {
   "cell_type": "code",
   "execution_count": 111,
   "id": "2bf0eed9",
   "metadata": {},
   "outputs": [
    {
     "data": {
      "text/plain": [
       "[{'Name': 'Layla', 'Age': 12, 'Income': 0},\n",
       " {'Name': 'Jake', 'Age': 23, 'Income': 450},\n",
       " {'Name': 'Thelma', 'Age': 23, 'Income': 450},\n",
       " {'Name': 'Lola', 'Age': 28, 'Income': 450},\n",
       " {'Name': 'Maria', 'Age': 32, 'Income': 2550},\n",
       " {'Name': 'Mina', 'Age': 35, 'Income': 2100},\n",
       " {'Name': 'Will', 'Age': 43, 'Income': 4500}]"
      ]
     },
     "execution_count": 111,
     "metadata": {},
     "output_type": "execute_result"
    }
   ],
   "source": [
    "persons.sort(key = lambda person: person['Age'])\n",
    "persons"
   ]
  },
  {
   "cell_type": "markdown",
   "id": "6c59cb5d",
   "metadata": {},
   "source": [
    "- Exercise: sort the list based on each person's income "
   ]
  },
  {
   "cell_type": "code",
   "execution_count": 112,
   "id": "e452faf8",
   "metadata": {},
   "outputs": [
    {
     "data": {
      "text/plain": [
       "[{'Name': 'Layla', 'Age': 12, 'Income': 0},\n",
       " {'Name': 'Jake', 'Age': 23, 'Income': 450},\n",
       " {'Name': 'Thelma', 'Age': 23, 'Income': 450},\n",
       " {'Name': 'Lola', 'Age': 28, 'Income': 450},\n",
       " {'Name': 'Mina', 'Age': 35, 'Income': 2100},\n",
       " {'Name': 'Maria', 'Age': 32, 'Income': 2550},\n",
       " {'Name': 'Will', 'Age': 43, 'Income': 4500}]"
      ]
     },
     "execution_count": 112,
     "metadata": {},
     "output_type": "execute_result"
    }
   ],
   "source": [
    "persons.sort(key = lambda persons: persons['Income'])\n",
    "persons"
   ]
  },
  {
   "cell_type": "markdown",
   "id": "c3246abe",
   "metadata": {},
   "source": [
    "### Task 5: Data Manipulation and Exploration using Lambda Expressions\n",
    "- we have dataframe containing of information related to 11 Employees who are working in a technology company"
   ]
  },
  {
   "cell_type": "code",
   "execution_count": 113,
   "id": "534f4454",
   "metadata": {},
   "outputs": [
    {
     "data": {
      "text/html": [
       "<div>\n",
       "<style scoped>\n",
       "    .dataframe tbody tr th:only-of-type {\n",
       "        vertical-align: middle;\n",
       "    }\n",
       "\n",
       "    .dataframe tbody tr th {\n",
       "        vertical-align: top;\n",
       "    }\n",
       "\n",
       "    .dataframe thead th {\n",
       "        text-align: right;\n",
       "    }\n",
       "</style>\n",
       "<table border=\"1\" class=\"dataframe\">\n",
       "  <thead>\n",
       "    <tr style=\"text-align: right;\">\n",
       "      <th></th>\n",
       "      <th>Name</th>\n",
       "      <th>Hourly Wage</th>\n",
       "      <th>Type of contract</th>\n",
       "    </tr>\n",
       "  </thead>\n",
       "  <tbody>\n",
       "    <tr>\n",
       "      <th>0</th>\n",
       "      <td>Jeremy</td>\n",
       "      <td>6</td>\n",
       "      <td>Part-Time</td>\n",
       "    </tr>\n",
       "    <tr>\n",
       "      <th>1</th>\n",
       "      <td>Frank</td>\n",
       "      <td>7</td>\n",
       "      <td>Part-Time</td>\n",
       "    </tr>\n",
       "    <tr>\n",
       "      <th>2</th>\n",
       "      <td>Janet</td>\n",
       "      <td>22</td>\n",
       "      <td>Full-Time</td>\n",
       "    </tr>\n",
       "    <tr>\n",
       "      <th>3</th>\n",
       "      <td>Ryan</td>\n",
       "      <td>10</td>\n",
       "      <td>Part-Time</td>\n",
       "    </tr>\n",
       "    <tr>\n",
       "      <th>4</th>\n",
       "      <td>Mary</td>\n",
       "      <td>32</td>\n",
       "      <td>Full-Time</td>\n",
       "    </tr>\n",
       "    <tr>\n",
       "      <th>5</th>\n",
       "      <td>John</td>\n",
       "      <td>10</td>\n",
       "      <td>Part-Time</td>\n",
       "    </tr>\n",
       "    <tr>\n",
       "      <th>6</th>\n",
       "      <td>Alex</td>\n",
       "      <td>29</td>\n",
       "      <td>Full-Time</td>\n",
       "    </tr>\n",
       "    <tr>\n",
       "      <th>7</th>\n",
       "      <td>Maiki</td>\n",
       "      <td>10</td>\n",
       "      <td>Part-Time</td>\n",
       "    </tr>\n",
       "    <tr>\n",
       "      <th>8</th>\n",
       "      <td>Alice</td>\n",
       "      <td>12</td>\n",
       "      <td>Part-Time</td>\n",
       "    </tr>\n",
       "    <tr>\n",
       "      <th>9</th>\n",
       "      <td>Layla</td>\n",
       "      <td>10</td>\n",
       "      <td>Part-Time</td>\n",
       "    </tr>\n",
       "    <tr>\n",
       "      <th>10</th>\n",
       "      <td>Hanna</td>\n",
       "      <td>30</td>\n",
       "      <td>Full-Time</td>\n",
       "    </tr>\n",
       "  </tbody>\n",
       "</table>\n",
       "</div>"
      ],
      "text/plain": [
       "      Name  Hourly Wage Type of contract\n",
       "0   Jeremy            6        Part-Time\n",
       "1    Frank            7        Part-Time\n",
       "2    Janet           22        Full-Time\n",
       "3     Ryan           10        Part-Time\n",
       "4     Mary           32        Full-Time\n",
       "5     John           10        Part-Time\n",
       "6     Alex           29        Full-Time\n",
       "7    Maiki           10        Part-Time\n",
       "8    Alice           12        Part-Time\n",
       "9    Layla           10        Part-Time\n",
       "10   Hanna           30        Full-Time"
      ]
     },
     "execution_count": 113,
     "metadata": {},
     "output_type": "execute_result"
    }
   ],
   "source": [
    "import pandas as pd \n",
    "dataframe = pd.DataFrame({\n",
    "    'Name':['Jeremy','Frank','Janet','Ryan','Mary',\"John\",\"Alex\",\"Maiki\",\"Alice\",\"Layla\",\"Hanna\"],\n",
    "    'Hourly Wage' : [6,7,22,10,32,10,29,10,12,10,30],\n",
    "    'Type of contract' : [\"Part-Time\",\"Part-Time\",\"Full-Time\",\"Part-Time\",\n",
    "                          \"Full-Time\",\"Part-Time\",\"Full-Time\",\"Part-Time\",\n",
    "                          \"Part-Time\",\"Part-Time\",\"Full-Time\"]\n",
    "})\n",
    "dataframe"
   ]
  },
  {
   "cell_type": "markdown",
   "id": "ed8fcacc",
   "metadata": {},
   "source": [
    "- let's add a column \"Daily Working Hours\", containing of number of hours each employee works in a day, based on their contract type. \n",
    "#### Assume that  : \n",
    "    - part-time job working hours : 20 hours per week (4 hours per day)\n",
    "    - full-time job working hours : 40 hours per week (8 hours per day)"
   ]
  },
  {
   "cell_type": "code",
   "execution_count": 114,
   "id": "53d4b1fb",
   "metadata": {},
   "outputs": [
    {
     "data": {
      "text/html": [
       "<div>\n",
       "<style scoped>\n",
       "    .dataframe tbody tr th:only-of-type {\n",
       "        vertical-align: middle;\n",
       "    }\n",
       "\n",
       "    .dataframe tbody tr th {\n",
       "        vertical-align: top;\n",
       "    }\n",
       "\n",
       "    .dataframe thead th {\n",
       "        text-align: right;\n",
       "    }\n",
       "</style>\n",
       "<table border=\"1\" class=\"dataframe\">\n",
       "  <thead>\n",
       "    <tr style=\"text-align: right;\">\n",
       "      <th></th>\n",
       "      <th>Name</th>\n",
       "      <th>Hourly Wage</th>\n",
       "      <th>Type of contract</th>\n",
       "      <th>Daily Working Hours</th>\n",
       "    </tr>\n",
       "  </thead>\n",
       "  <tbody>\n",
       "    <tr>\n",
       "      <th>0</th>\n",
       "      <td>Jeremy</td>\n",
       "      <td>6</td>\n",
       "      <td>Part-Time</td>\n",
       "      <td>4</td>\n",
       "    </tr>\n",
       "    <tr>\n",
       "      <th>1</th>\n",
       "      <td>Frank</td>\n",
       "      <td>7</td>\n",
       "      <td>Part-Time</td>\n",
       "      <td>4</td>\n",
       "    </tr>\n",
       "    <tr>\n",
       "      <th>2</th>\n",
       "      <td>Janet</td>\n",
       "      <td>22</td>\n",
       "      <td>Full-Time</td>\n",
       "      <td>8</td>\n",
       "    </tr>\n",
       "    <tr>\n",
       "      <th>3</th>\n",
       "      <td>Ryan</td>\n",
       "      <td>10</td>\n",
       "      <td>Part-Time</td>\n",
       "      <td>4</td>\n",
       "    </tr>\n",
       "    <tr>\n",
       "      <th>4</th>\n",
       "      <td>Mary</td>\n",
       "      <td>32</td>\n",
       "      <td>Full-Time</td>\n",
       "      <td>8</td>\n",
       "    </tr>\n",
       "    <tr>\n",
       "      <th>5</th>\n",
       "      <td>John</td>\n",
       "      <td>10</td>\n",
       "      <td>Part-Time</td>\n",
       "      <td>4</td>\n",
       "    </tr>\n",
       "    <tr>\n",
       "      <th>6</th>\n",
       "      <td>Alex</td>\n",
       "      <td>29</td>\n",
       "      <td>Full-Time</td>\n",
       "      <td>8</td>\n",
       "    </tr>\n",
       "    <tr>\n",
       "      <th>7</th>\n",
       "      <td>Maiki</td>\n",
       "      <td>10</td>\n",
       "      <td>Part-Time</td>\n",
       "      <td>4</td>\n",
       "    </tr>\n",
       "    <tr>\n",
       "      <th>8</th>\n",
       "      <td>Alice</td>\n",
       "      <td>12</td>\n",
       "      <td>Part-Time</td>\n",
       "      <td>4</td>\n",
       "    </tr>\n",
       "    <tr>\n",
       "      <th>9</th>\n",
       "      <td>Layla</td>\n",
       "      <td>10</td>\n",
       "      <td>Part-Time</td>\n",
       "      <td>4</td>\n",
       "    </tr>\n",
       "    <tr>\n",
       "      <th>10</th>\n",
       "      <td>Hanna</td>\n",
       "      <td>30</td>\n",
       "      <td>Full-Time</td>\n",
       "      <td>8</td>\n",
       "    </tr>\n",
       "  </tbody>\n",
       "</table>\n",
       "</div>"
      ],
      "text/plain": [
       "      Name  Hourly Wage Type of contract  Daily Working Hours\n",
       "0   Jeremy            6        Part-Time                    4\n",
       "1    Frank            7        Part-Time                    4\n",
       "2    Janet           22        Full-Time                    8\n",
       "3     Ryan           10        Part-Time                    4\n",
       "4     Mary           32        Full-Time                    8\n",
       "5     John           10        Part-Time                    4\n",
       "6     Alex           29        Full-Time                    8\n",
       "7    Maiki           10        Part-Time                    4\n",
       "8    Alice           12        Part-Time                    4\n",
       "9    Layla           10        Part-Time                    4\n",
       "10   Hanna           30        Full-Time                    8"
      ]
     },
     "execution_count": 114,
     "metadata": {},
     "output_type": "execute_result"
    }
   ],
   "source": [
    "dataframe['Daily Working Hours'] = dataframe['Type of contract'].apply(lambda e: 4 if e=='Part-Time' else 8)\n",
    "dataframe"
   ]
  },
  {
   "cell_type": "markdown",
   "id": "8135a0c0",
   "metadata": {},
   "source": [
    "- Let's add a column \"Annual Income\", calculate Annual income of each employee"
   ]
  },
  {
   "cell_type": "code",
   "execution_count": 117,
   "id": "6ddebc80",
   "metadata": {},
   "outputs": [
    {
     "data": {
      "text/html": [
       "<div>\n",
       "<style scoped>\n",
       "    .dataframe tbody tr th:only-of-type {\n",
       "        vertical-align: middle;\n",
       "    }\n",
       "\n",
       "    .dataframe tbody tr th {\n",
       "        vertical-align: top;\n",
       "    }\n",
       "\n",
       "    .dataframe thead th {\n",
       "        text-align: right;\n",
       "    }\n",
       "</style>\n",
       "<table border=\"1\" class=\"dataframe\">\n",
       "  <thead>\n",
       "    <tr style=\"text-align: right;\">\n",
       "      <th></th>\n",
       "      <th>Name</th>\n",
       "      <th>Hourly Wage</th>\n",
       "      <th>Type of contract</th>\n",
       "      <th>Daily Working Hours</th>\n",
       "      <th>Annual Income</th>\n",
       "    </tr>\n",
       "  </thead>\n",
       "  <tbody>\n",
       "    <tr>\n",
       "      <th>0</th>\n",
       "      <td>Jeremy</td>\n",
       "      <td>6</td>\n",
       "      <td>Part-Time</td>\n",
       "      <td>4</td>\n",
       "      <td>8760</td>\n",
       "    </tr>\n",
       "    <tr>\n",
       "      <th>1</th>\n",
       "      <td>Frank</td>\n",
       "      <td>7</td>\n",
       "      <td>Part-Time</td>\n",
       "      <td>4</td>\n",
       "      <td>10220</td>\n",
       "    </tr>\n",
       "    <tr>\n",
       "      <th>2</th>\n",
       "      <td>Janet</td>\n",
       "      <td>22</td>\n",
       "      <td>Full-Time</td>\n",
       "      <td>8</td>\n",
       "      <td>64240</td>\n",
       "    </tr>\n",
       "    <tr>\n",
       "      <th>3</th>\n",
       "      <td>Ryan</td>\n",
       "      <td>10</td>\n",
       "      <td>Part-Time</td>\n",
       "      <td>4</td>\n",
       "      <td>14600</td>\n",
       "    </tr>\n",
       "    <tr>\n",
       "      <th>4</th>\n",
       "      <td>Mary</td>\n",
       "      <td>32</td>\n",
       "      <td>Full-Time</td>\n",
       "      <td>8</td>\n",
       "      <td>93440</td>\n",
       "    </tr>\n",
       "    <tr>\n",
       "      <th>5</th>\n",
       "      <td>John</td>\n",
       "      <td>10</td>\n",
       "      <td>Part-Time</td>\n",
       "      <td>4</td>\n",
       "      <td>14600</td>\n",
       "    </tr>\n",
       "    <tr>\n",
       "      <th>6</th>\n",
       "      <td>Alex</td>\n",
       "      <td>29</td>\n",
       "      <td>Full-Time</td>\n",
       "      <td>8</td>\n",
       "      <td>84680</td>\n",
       "    </tr>\n",
       "    <tr>\n",
       "      <th>7</th>\n",
       "      <td>Maiki</td>\n",
       "      <td>10</td>\n",
       "      <td>Part-Time</td>\n",
       "      <td>4</td>\n",
       "      <td>14600</td>\n",
       "    </tr>\n",
       "    <tr>\n",
       "      <th>8</th>\n",
       "      <td>Alice</td>\n",
       "      <td>12</td>\n",
       "      <td>Part-Time</td>\n",
       "      <td>4</td>\n",
       "      <td>17520</td>\n",
       "    </tr>\n",
       "    <tr>\n",
       "      <th>9</th>\n",
       "      <td>Layla</td>\n",
       "      <td>10</td>\n",
       "      <td>Part-Time</td>\n",
       "      <td>4</td>\n",
       "      <td>14600</td>\n",
       "    </tr>\n",
       "    <tr>\n",
       "      <th>10</th>\n",
       "      <td>Hanna</td>\n",
       "      <td>30</td>\n",
       "      <td>Full-Time</td>\n",
       "      <td>8</td>\n",
       "      <td>87600</td>\n",
       "    </tr>\n",
       "  </tbody>\n",
       "</table>\n",
       "</div>"
      ],
      "text/plain": [
       "      Name  Hourly Wage Type of contract  Daily Working Hours  Annual Income\n",
       "0   Jeremy            6        Part-Time                    4           8760\n",
       "1    Frank            7        Part-Time                    4          10220\n",
       "2    Janet           22        Full-Time                    8          64240\n",
       "3     Ryan           10        Part-Time                    4          14600\n",
       "4     Mary           32        Full-Time                    8          93440\n",
       "5     John           10        Part-Time                    4          14600\n",
       "6     Alex           29        Full-Time                    8          84680\n",
       "7    Maiki           10        Part-Time                    4          14600\n",
       "8    Alice           12        Part-Time                    4          17520\n",
       "9    Layla           10        Part-Time                    4          14600\n",
       "10   Hanna           30        Full-Time                    8          87600"
      ]
     },
     "execution_count": 117,
     "metadata": {},
     "output_type": "execute_result"
    }
   ],
   "source": [
    "dataframe['Annual Income'] = dataframe.apply(lambda row: row['Daily Working Hours'] * row['Hourly Wage'] * 365, axis = 1)\n",
    "dataframe"
   ]
  },
  {
   "cell_type": "markdown",
   "id": "8e28ed30",
   "metadata": {},
   "source": [
    "- Exercise: Add a column \"Annual Tax Amount\", for each person calculate how much tax they pay each a year based on the annual income\n",
    "#### Personal income tax rates  :\n",
    "    - if the annual income is more than 64000, the tax rate would be 35%\n",
    "    - if the annual income is less than 64000, the tax rate would be 0%"
   ]
  },
  {
   "cell_type": "code",
   "execution_count": 119,
   "id": "3a6562c9",
   "metadata": {},
   "outputs": [
    {
     "data": {
      "text/html": [
       "<div>\n",
       "<style scoped>\n",
       "    .dataframe tbody tr th:only-of-type {\n",
       "        vertical-align: middle;\n",
       "    }\n",
       "\n",
       "    .dataframe tbody tr th {\n",
       "        vertical-align: top;\n",
       "    }\n",
       "\n",
       "    .dataframe thead th {\n",
       "        text-align: right;\n",
       "    }\n",
       "</style>\n",
       "<table border=\"1\" class=\"dataframe\">\n",
       "  <thead>\n",
       "    <tr style=\"text-align: right;\">\n",
       "      <th></th>\n",
       "      <th>Name</th>\n",
       "      <th>Hourly Wage</th>\n",
       "      <th>Type of contract</th>\n",
       "      <th>Daily Working Hours</th>\n",
       "      <th>Annual Income</th>\n",
       "      <th>Annual Tax Amount</th>\n",
       "    </tr>\n",
       "  </thead>\n",
       "  <tbody>\n",
       "    <tr>\n",
       "      <th>0</th>\n",
       "      <td>Jeremy</td>\n",
       "      <td>6</td>\n",
       "      <td>Part-Time</td>\n",
       "      <td>4</td>\n",
       "      <td>8760</td>\n",
       "      <td>0.0</td>\n",
       "    </tr>\n",
       "    <tr>\n",
       "      <th>1</th>\n",
       "      <td>Frank</td>\n",
       "      <td>7</td>\n",
       "      <td>Part-Time</td>\n",
       "      <td>4</td>\n",
       "      <td>10220</td>\n",
       "      <td>0.0</td>\n",
       "    </tr>\n",
       "    <tr>\n",
       "      <th>2</th>\n",
       "      <td>Janet</td>\n",
       "      <td>22</td>\n",
       "      <td>Full-Time</td>\n",
       "      <td>8</td>\n",
       "      <td>64240</td>\n",
       "      <td>22484.0</td>\n",
       "    </tr>\n",
       "    <tr>\n",
       "      <th>3</th>\n",
       "      <td>Ryan</td>\n",
       "      <td>10</td>\n",
       "      <td>Part-Time</td>\n",
       "      <td>4</td>\n",
       "      <td>14600</td>\n",
       "      <td>0.0</td>\n",
       "    </tr>\n",
       "    <tr>\n",
       "      <th>4</th>\n",
       "      <td>Mary</td>\n",
       "      <td>32</td>\n",
       "      <td>Full-Time</td>\n",
       "      <td>8</td>\n",
       "      <td>93440</td>\n",
       "      <td>32704.0</td>\n",
       "    </tr>\n",
       "    <tr>\n",
       "      <th>5</th>\n",
       "      <td>John</td>\n",
       "      <td>10</td>\n",
       "      <td>Part-Time</td>\n",
       "      <td>4</td>\n",
       "      <td>14600</td>\n",
       "      <td>0.0</td>\n",
       "    </tr>\n",
       "    <tr>\n",
       "      <th>6</th>\n",
       "      <td>Alex</td>\n",
       "      <td>29</td>\n",
       "      <td>Full-Time</td>\n",
       "      <td>8</td>\n",
       "      <td>84680</td>\n",
       "      <td>29638.0</td>\n",
       "    </tr>\n",
       "    <tr>\n",
       "      <th>7</th>\n",
       "      <td>Maiki</td>\n",
       "      <td>10</td>\n",
       "      <td>Part-Time</td>\n",
       "      <td>4</td>\n",
       "      <td>14600</td>\n",
       "      <td>0.0</td>\n",
       "    </tr>\n",
       "    <tr>\n",
       "      <th>8</th>\n",
       "      <td>Alice</td>\n",
       "      <td>12</td>\n",
       "      <td>Part-Time</td>\n",
       "      <td>4</td>\n",
       "      <td>17520</td>\n",
       "      <td>0.0</td>\n",
       "    </tr>\n",
       "    <tr>\n",
       "      <th>9</th>\n",
       "      <td>Layla</td>\n",
       "      <td>10</td>\n",
       "      <td>Part-Time</td>\n",
       "      <td>4</td>\n",
       "      <td>14600</td>\n",
       "      <td>0.0</td>\n",
       "    </tr>\n",
       "    <tr>\n",
       "      <th>10</th>\n",
       "      <td>Hanna</td>\n",
       "      <td>30</td>\n",
       "      <td>Full-Time</td>\n",
       "      <td>8</td>\n",
       "      <td>87600</td>\n",
       "      <td>30660.0</td>\n",
       "    </tr>\n",
       "  </tbody>\n",
       "</table>\n",
       "</div>"
      ],
      "text/plain": [
       "      Name  Hourly Wage Type of contract  Daily Working Hours  Annual Income  \\\n",
       "0   Jeremy            6        Part-Time                    4           8760   \n",
       "1    Frank            7        Part-Time                    4          10220   \n",
       "2    Janet           22        Full-Time                    8          64240   \n",
       "3     Ryan           10        Part-Time                    4          14600   \n",
       "4     Mary           32        Full-Time                    8          93440   \n",
       "5     John           10        Part-Time                    4          14600   \n",
       "6     Alex           29        Full-Time                    8          84680   \n",
       "7    Maiki           10        Part-Time                    4          14600   \n",
       "8    Alice           12        Part-Time                    4          17520   \n",
       "9    Layla           10        Part-Time                    4          14600   \n",
       "10   Hanna           30        Full-Time                    8          87600   \n",
       "\n",
       "    Annual Tax Amount  \n",
       "0                 0.0  \n",
       "1                 0.0  \n",
       "2             22484.0  \n",
       "3                 0.0  \n",
       "4             32704.0  \n",
       "5                 0.0  \n",
       "6             29638.0  \n",
       "7                 0.0  \n",
       "8                 0.0  \n",
       "9                 0.0  \n",
       "10            30660.0  "
      ]
     },
     "execution_count": 119,
     "metadata": {},
     "output_type": "execute_result"
    }
   ],
   "source": [
    "dataframe['Annual Tax Amount'] = dataframe['Annual Income'].apply(lambda a: 0.35 * a if a > 64000 else 0)\n",
    "dataframe"
   ]
  }
 ],
 "metadata": {
  "kernelspec": {
   "display_name": "Python 3 (ipykernel)",
   "language": "python",
   "name": "python3"
  },
  "language_info": {
   "codemirror_mode": {
    "name": "ipython",
    "version": 3
   },
   "file_extension": ".py",
   "mimetype": "text/x-python",
   "name": "python",
   "nbconvert_exporter": "python",
   "pygments_lexer": "ipython3",
   "version": "3.10.6"
  }
 },
 "nbformat": 4,
 "nbformat_minor": 5
}
